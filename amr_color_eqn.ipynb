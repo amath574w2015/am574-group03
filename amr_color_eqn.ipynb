{
 "metadata": {
  "name": "",
  "signature": "sha256:3746fe8f813ba75a65c79dc28791c6486cb6264e1d0ae08f9fc31c776e575659"
 },
 "nbformat": 3,
 "nbformat_minor": 0,
 "worksheets": [
  {
   "cells": [
    {
     "cell_type": "markdown",
     "metadata": {},
     "source": [
      "Adaptive mesh refinement tried out on a 1-d variable coefficient equation, also known as the color equation, $q_t + u(x)q_x = 0$"
     ]
    },
    {
     "cell_type": "code",
     "collapsed": false,
     "input": [
      "% pylab inline"
     ],
     "language": "python",
     "metadata": {},
     "outputs": [
      {
       "output_type": "stream",
       "stream": "stdout",
       "text": [
        "Populating the interactive namespace from numpy and matplotlib\n"
       ]
      }
     ],
     "prompt_number": 1
    },
    {
     "cell_type": "code",
     "collapsed": false,
     "input": [
      "# Step 1: Initialize coarse grid, domain [0,1]\n",
      "# We have mx cells, indexed by 0 to mx-1, and x[i] is the mid-point of cell i\n",
      "mx = 20\n",
      "dx = 1./mx\n",
      "x = linspace(dx/2, 1.-dx/2, mx)  # computational grid\n",
      "xc = x"
     ],
     "language": "python",
     "metadata": {},
     "outputs": [],
     "prompt_number": 2
    },
    {
     "cell_type": "code",
     "collapsed": false,
     "input": [
      "tfinal = 1\n",
      "dt = dx\n",
      "nsteps = int(tfinal/dx)\n",
      "#dt = float(tfinal)/nsteps"
     ],
     "language": "python",
     "metadata": {},
     "outputs": [],
     "prompt_number": 3
    },
    {
     "cell_type": "code",
     "collapsed": false,
     "input": [
      "# intital condition\n",
      "q0 = where(abs(x) < 0.5,  1., 0.)\n",
      "\n",
      "def u_fnc(x):\n",
      "    u = where(abs(x) < 0.5,  exp(x), 1.)\n",
      "    #n = len(x)\n",
      "    #u = ones(n)\n",
      "    #u = where(abs(x) < 0.5,  x, 1.)\n",
      "    return u"
     ],
     "language": "python",
     "metadata": {},
     "outputs": [],
     "prompt_number": 4
    },
    {
     "cell_type": "code",
     "collapsed": false,
     "input": [
      "# Step 2: Solve problem for ONE time step on coarse grid, for time step dt and 2*dt\n",
      "# u is the coefficient function in the form of a vector where u[i] = u(x) evaluated at x[i]\n",
      "# Similarly, q0 is a vector with the initial condition evaluated at cell mid-points x[i]\n",
      "# THE SOLUTION INCLUDES TWO GHOST CELLS ON EACH SIDE\n",
      "\n",
      "def color_onestep(u,q0,dt,dx):\n",
      "    \n",
      "    mx = len(q0)\n",
      "    qn = hstack([0,0, q0, 0,0])   # add two ghost cells on each end\n",
      "                                  # qn[2] through qn[mx+1]\n",
      "    #print dx\n",
      "    #print dt\n",
      "    cfl = u*dt/dx\n",
      "    #print 'cfl', cfl\n",
      "\n",
      "    \n",
      "    qn[0] = qn[2]\n",
      "    qn[1] = qn[2]\n",
      "    qn[mx+2] = qn[mx+1]\n",
      "    qn[mx+3] = qn[mx+1]\n",
      "    \n",
      "    qnp = zeros(qn.shape)   # initialize array\n",
      "    flux = zeros(qn.shape)\n",
      "    \n",
      "    for i in range(2,mx+2):\n",
      "        flux[i] = 0.5*abs(u[i-2])*(1-(dt/dx)*abs(u[i-2]))*(qn[i]-qn[i-1])\n",
      "    \n",
      "    \n",
      "    for i in range(2,mx+2):\n",
      "        if u[i-2] > 0:\n",
      "            qnp[i] = qn[i] - (dt/dx) * u[i-2]*(qn[i]-qn[i-1])\n",
      "        else:\n",
      "            qnp[i] = qn[i] - (dt/dx) * u[i-2]*(qn[i+1]-qn[i])\n",
      "            \n",
      "        qnp[i] = qnp[i]-(dt/dx)*(flux[i+1]-flux[i])\n",
      "        \n",
      "    #qnew = qnp[2:(mx+2)]   # throw away ghost cells\n",
      "     \n",
      "    return qnp"
     ],
     "language": "python",
     "metadata": {},
     "outputs": [],
     "prompt_number": 5
    },
    {
     "cell_type": "code",
     "collapsed": false,
     "input": [
      "# Step 3: Estimate error and flag cells based on Richardson extrapolation\n",
      "\n",
      "qnew_D1 = color_onestep(u_fnc(x),q0,dt,dx)  # twice\n",
      "qnew_D2 = color_onestep(u_fnc(x),qnew_D1[2:mx+2],dt,dx)  # twice\n",
      "\n",
      "qnew_2D = color_onestep(u_fnc(x),q0,2*dt,dx)  # double time step\n",
      "\n",
      "error = zeros(qnew_2D.shape)\n",
      "s = 2 # order of accuracy\n",
      "flag_cnt = 0 # flagged cell count\n",
      "tol = (dx**(s+2))/100\n",
      "#print tol\n",
      "\n",
      "for i in range(0,mx):\n",
      "    error[i] = (qnew_D2[i+2]-qnew_2D[i+2])/(2**(s+1)-2)\n",
      "\n",
      "    if abs(error[i]) >= tol:\n",
      "        flag_cnt = flag_cnt + 1\n",
      "        \n",
      "#print error\n",
      "\n",
      "flagged = zeros(flag_cnt)\n",
      "\n",
      "\n",
      "flag_cnt = 0\n",
      "for i in range(0,mx):\n",
      "    if abs(error[i]) >= tol:\n",
      "        flagged[flag_cnt] = i\n",
      "        flag_cnt = flag_cnt + 1\n",
      "        \n",
      "#print flag_cnt\n",
      "print flagged\n",
      "# cluster generation\n",
      "bfs = 2 #buffer-size\n",
      "gc = 1 # number of ghost cells\n",
      "\n",
      "cls_tol = 2*(bfs+gc) # threshold for clustering\n",
      "\n",
      "temp = zeros(2*flag_cnt)\n",
      "idx = 0;\n",
      "temp[idx] = max(flagged[0]-bfs,0.) # lower end of first cluster\n",
      "clstr_cnt = 0\n",
      "\n",
      "for i in range(0,flag_cnt-1):\n",
      "    if (flagged[i+1]-flagged[i]) <= cls_tol:\n",
      "        continue\n",
      "    else: \n",
      "        temp[idx+1] = flagged[i] + bfs  # upper end of (s/2 + 1)th cluster\n",
      "        clstr_cnt = clstr_cnt + 1\n",
      "        idx = idx+2\n",
      "        temp[idx] = flagged[i+1] - bfs\n",
      "\n",
      "temp[idx+1] = min(flagged[flag_cnt-1]+ bfs, mx)\n",
      "clstr_cnt = clstr_cnt + 1\n",
      "clstr_cnt = int(clstr_cnt)\n",
      "\n",
      "clusters = [0 for i in xrange(2*clstr_cnt)]\n",
      "#clusters = zeros(2*clstr_cnt)\n",
      "\n",
      "#print clstr_cnt\n",
      "#print temp\n",
      "\n",
      "for i in range(0,2*clstr_cnt):\n",
      "    clusters[i] = int(temp[i])\n",
      "#print clusters\n"
     ],
     "language": "python",
     "metadata": {},
     "outputs": [
      {
       "output_type": "stream",
       "stream": "stdout",
       "text": [
        "[  9.  10.  11.]\n"
       ]
      }
     ],
     "prompt_number": 6
    },
    {
     "cell_type": "code",
     "collapsed": false,
     "input": [
      "\n",
      "# Generate fine grid\n",
      "# clstr_cnt = number of clusters\n",
      "R = 2 # refinement factor\n",
      "dx_hat = dx/R \n",
      "dt = 1\n",
      "dt_hat = dt/R\n",
      "\n",
      "clsize = 0\n",
      "for i in range(0,clstr_cnt):\n",
      "    d = clusters[(2*i)+1] - clusters[2*i] +1\n",
      "    if d > clsize:\n",
      "        clsize = d\n",
      "#print clsize\n",
      "\n",
      "\n",
      "qn = zeros(mx+4) \n",
      "\n",
      "qhat = zeros([clstr_cnt,R*clsize])\n",
      "for iclstr in range(0,clstr_cnt):\n",
      "    cellnum = clusters[(2*iclstr)+1] - clusters[2*iclstr] +1\n",
      "    clidx = range(clusters[(2*iclstr)], clusters[(2*iclstr)+1]+1)\n",
      "    #print clidx\n",
      "    \n",
      "    #print cellnum\n",
      "    for j in range(0,cellnum):\n",
      "        slope = (qn[clidx[j]+2] - qn[clidx[j]+1])/dx\n",
      "        qhat[iclstr,2*j] = qn[clidx[j]+2] - slope*(dx)/4\n",
      "        qhat[iclstr,2*j+1] = qn[clidx[j]+2] + slope*(dx)/4\n",
      "    \n"
     ],
     "language": "python",
     "metadata": {},
     "outputs": [],
     "prompt_number": 7
    },
    {
     "cell_type": "code",
     "collapsed": false,
     "input": [
      "def bilin_interp(x_l,x_r,y_b,y_t,ql_b,qr_b,ql_t,qr_t,in_x,in_y):\n",
      "    value = (1/((x_r-x_l)*(y_t-y_b)))*(ql_b*(x_r-in_x)*(y_t-in_y) + qr_b*(in_x-x_l)*(y_t-in_y) + ql_t*(x_r-in_x)*(in_y-y_b) + qr_t*(in_x-x_l)*(in_y-y_b))\n",
      "    return value\n",
      "    "
     ],
     "language": "python",
     "metadata": {},
     "outputs": [],
     "prompt_number": 8
    },
    {
     "cell_type": "code",
     "collapsed": false,
     "input": [],
     "language": "python",
     "metadata": {},
     "outputs": [],
     "prompt_number": 8
    },
    {
     "cell_type": "code",
     "collapsed": false,
     "input": [
      "\n",
      "def amr_color(u_fnc,q0,xc,tfinal,nsteps):\n",
      "    # q0 = initial condition evaluated on coarse grid (cell averages)\n",
      "    # u_fnc = a function name evaluating the coefficient function u at the grid points\n",
      "    # u = velocity (coefficient) function, u[i] is cell-centered value in cell [i],\n",
      "    #     currently evaluated at cell-midpoint\n",
      "    # xc = coarse grid, domain [a,b] is divided into mx cells, and xc[i] is the mid-point of cell i\n",
      "        \n",
      "    dx = x[1]- x[0]             # length of cells in (given) coasrse grid\n",
      "    dt = float(tfinal)/nsteps   # length of time-step\n",
      "    u = u_fnc(xc)\n",
      "    \n",
      "    #plot(xc,u)\n",
      "    \n",
      "    mx_c = len(x)              # number of grid cells in coarse grid\n",
      "    \n",
      "    # Step 1: initalize coarse grid values q0 and u: Done before calling this function\n",
      "    qn = q0\n",
      "    \n",
      "    for istep in range(nsteps):\n",
      "        \n",
      "    \n",
      "        # Step 2: Solve problem on coarse grid for single time step\n",
      "        #         Done by calling a function 'color_onestep', which advances the solution on a given grid\n",
      "        #         with spacing dx, over a single time step of length dt, returns solution with two ghost cell\n",
      "        #         values on each side\n",
      "        qnp = color_onestep(u,qn,dt,dx)\n",
      "        #print 'qnp after solver'\n",
      "        #print qnp\n",
      "    \n",
      "    \n",
      "        # Step 3: Estimate error and flag cells based on Richardson extrapolation\n",
      "        #         We only allow for single level refinement\n",
      "    \n",
      "        qnew_D2 = color_onestep(u,qnp[2:mx+2],dt,dx) # twice\n",
      "        qnew_2D = color_onestep(u,qn,2*dt,dx)  # double time step\n",
      "\n",
      "        # Error\n",
      "        error = zeros(mx_c)\n",
      "        s = 2 # order of accuracy\n",
      "        flag_cnt = 0      # flagged cell count\n",
      "        tol = 1#(dx**(s+2))/100\n",
      "\n",
      "        for i in range(0,mx_c):\n",
      "            error[i] = (qnew_D2[i+2]-qnew_2D[i+2])/(2**(s+1)-2) # returned solutions had ghost cells\n",
      "            if abs(error[i]) >= tol:\n",
      "                flag_cnt = flag_cnt + 1\n",
      "        \n",
      "        print flag_cnt, 'number of flagged cells'\n",
      "        \n",
      "        \n",
      "        \n",
      "        # Use AMR only if any cella are flagged for refinement!\n",
      "        if flag_cnt > 0:\n",
      "            \n",
      "            # Cell flagging\n",
      "            flagged = zeros(flag_cnt)  # contains indices of cells flagged for refinement\n",
      "\n",
      "            flag_cnt = 0\n",
      "            for i in range(0,mx):\n",
      "                if abs(error[i]) >= tol:\n",
      "                    flagged[flag_cnt] = i\n",
      "                    flag_cnt = flag_cnt + 1\n",
      "   \n",
      "\n",
      "            # cluster generation\n",
      "            bfs = 2 #buffer-size\n",
      "            gc = 1 # number of ghost cells\n",
      "            cls_tol = 2*(bfs+gc) # threshold for clustering\n",
      "    \n",
      "            temp = zeros(2*flag_cnt)\n",
      "            idx = 0;\n",
      "            temp[idx] = max(flagged[0]-bfs,0.) # lower end of first cluster\n",
      "            clstr_cnt = 0\n",
      "\n",
      "            for i in range(0,flag_cnt-1):\n",
      "                if (flagged[i+1]-flagged[i]) <= cls_tol:\n",
      "                    continue\n",
      "                else: \n",
      "                    temp[idx+1] = flagged[i] + bfs  # upper end of (s/2 + 1)th cluster\n",
      "                    clstr_cnt = clstr_cnt + 1\n",
      "                    idx = idx+2\n",
      "                    temp[idx] = flagged[i+1] - bfs\n",
      "\n",
      "            temp[idx+1] = min(flagged[flag_cnt-1]+ bfs, mx)\n",
      "            clstr_cnt = clstr_cnt + 1\n",
      "            clstr_cnt = int(clstr_cnt)\n",
      "\n",
      "            clusters = [0 for i in xrange(2*clstr_cnt)]\n",
      "\n",
      "            #print clstr_cnt\n",
      "            #print temp\n",
      "\n",
      "            for i in range(0,2*clstr_cnt):\n",
      "                clusters[i] = int(temp[i])\n",
      "            #print clusters\n",
      "    \n",
      "            # Generate fine grid\n",
      "            # clstr_cnt = number of clusters\n",
      "            R = 2 # refinement factor\n",
      "            dx_hat = dx/R \n",
      "            dt_hat = dt/R\n",
      "            #print dt_hat\n",
      "            #print dx_hat\n",
      "        \n",
      "        \n",
      "            # Look for the largest sized cluster, to create array qhat of appropriate size\n",
      "            maxclsize = 0\n",
      "            for i in range(0,clstr_cnt):\n",
      "                d = clusters[(2*i)+1] - clusters[2*i] +1\n",
      "                if d > maxclsize:\n",
      "                    maxclsize = d\n",
      "   \n",
      "            mx_f = R*maxclsize    # maximum number of cells in fine grid in any cluster\n",
      "            \n",
      "            qhat = zeros([clstr_cnt,mx_f+4])   # include two ghost cells (on fine grid) on either side of each cluster\n",
      "                                               # so, one coarse grid cell on each side as ghost cell\n",
      "            xhat = zeros([clstr_cnt,mx_f+4])\n",
      "        \n",
      "            corr_l = zeros(clstr_cnt)  # store correction terms for fix up step\n",
      "            corr_r = zeros(clstr_cnt)\n",
      "    \n",
      "        \n",
      "            for iclstr in range(0,clstr_cnt):\n",
      "                #print iclstr\n",
      "        \n",
      "                cellnum = clusters[(2*iclstr)+1] - clusters[2*iclstr] +1      # number of cells in cluster iclstr, sans ghost cells\n",
      "                clidx = range(clusters[(2*iclstr)]-1, clusters[(2*iclstr)+1]+2) # vector of cellnum + 2 coarse cell indices in cluster\n",
      "                                                                                # iclstr  \n",
      "                #print clidx\n",
      "                \n",
      "                mxf_clstr = 2*(cellnum + 2) # number of fine grid cells in cluster\n",
      "                \n",
      "                \n",
      "                # cell midpoints for fine grid\n",
      "                xhat[iclstr,0] = xc[clidx[1]]-(5*dx)/4\n",
      "                xhat[iclstr,1] = xc[clidx[1]] - (3*dx/4)\n",
      "                \n",
      "                for j in range(1,cellnum+1):\n",
      "                \n",
      "                    xhat[iclstr,2*j] = xc[clidx[j]]-(dx)/4\n",
      "                    xhat[iclstr,2*j+1] = xc[clidx[j]] + (dx/4)\n",
      "                    \n",
      "                xhat[iclstr,mxf_clstr-2] = xc[clidx[cellnum]]+(3*dx)/4\n",
      "                xhat[iclstr,mxf_clstr-1] = xc[clidx[cellnum]]+(5*dx)/4\n",
      "                \n",
      "                \n",
      "                for j in range(0,cellnum+2):\n",
      "                \n",
      "                    slope = (qn[clidx[j]+2] - qn[clidx[j]+1])/dx   # upwind slope, can use other slopes, limiters, etc\n",
      "                    #print slope\n",
      "                \n",
      "                    qhat[iclstr,2*j] = qn[clidx[j]+2] - slope*(dx)/4\n",
      "                    qhat[iclstr,2*j+1] = qn[clidx[j]+2] + slope*(dx)/4\n",
      "                \n",
      "                #plot(xc,q0,xhat[0:mxf_clstr],qhat[0:mxf_clstr])\n",
      "                #plt.show\n",
      "                #raw_input('Press <ENTER> to continue')\n",
      "                \n",
      "                uhat = u_fnc(xhat[iclstr,0:mxf_clstr])\n",
      "            \n",
      "                for tstep in range(0,R):\n",
      "                    #print tstep\n",
      "                \n",
      "                    # compute correction for this fine grid time step\n",
      "                    # Fix-up in ghost cells to ensure conservation\n",
      "                    # Left ghost cell, indexed by clidx[0]\n",
      "                    u_lgc_l = u_fnc(xhat[iclstr,0])\n",
      "                    u_lgc_r = u_fnc(xhat[iclstr,1])\n",
      "            \n",
      "                    if u_lgc_l >= 0: # Right going correction\n",
      "                        corr_l[iclstr] = corr_l[iclstr] + (dt_hat/dx) * u_lgc_l*(qnp[clidx[0]]- qhat[iclstr,0])    \n",
      "                        # if u_lgc_l < 0: # Left going correction, nothing to do                \n",
      "                \n",
      "                        # if u_lgc_r >= 0: # Right going correction, nothing to do\n",
      "                \n",
      "                    if u_lgc_r < 0: # Left going correction\n",
      "                        corr_l[iclstr] = corr_l[iclstr] + (dt_hat/dx) * u_lgc_r*(qhat[iclstr,1] - qnp[clidx[0]]) \n",
      "            \n",
      "                    # Right ghost cell, indexed by clidx[cellnum+1]\n",
      "                    u_rgc_l = u_fnc(xhat[iclstr,mxf_clstr-2])\n",
      "                    u_rgc_r = u_fnc(xhat[iclstr,mxf_clstr-1])\n",
      "            \n",
      "                    if u_rgc_l >= 0: # Right going correction\n",
      "                        corr_r[iclstr] = corr_r[iclstr] + (dt_hat/dx) * u_rgc_l*(qnp[clidx[cellnum+1]]- qhat[iclstr,mxf_clstr-2])\n",
      "                    # if u_rgc_l < 0: # Left going correction, nothing to do\n",
      "                  \n",
      "                    # if u_rgc_r >= 0: # Right going correction, nothing to do\n",
      "                  \n",
      "                    if u_rgc_r < 0: # Left going correction\n",
      "                        corr_r[iclstr] = corr_r[iclstr] + (dt_hat/dx) * u_rgc_r*(qhat[iclstr,0:mxf_clstr-1] - qnp[clidx[cellnum+1]])\n",
      "                \n",
      "                \n",
      "                    # Compute qhat for time t_n + dt_hat\n",
      "                    qhat[iclstr,0:mxf_clstr] = color_onestep(uhat,qhat[iclstr,0:mxf_clstr],dt_hat,dx_hat)[2:mxf_clstr+2]\n",
      "            \n",
      "                    \n",
      "                    # bilin_interp(x_l,x_r,y_b,y_t,ql_b,qr_b,ql_t,qr_t,in_x,in_y)\n",
      "            \n",
      "                    qhat[iclstr,0] = bilin_interp(xc[clidx[1]]-2*dx,\n",
      "                                                  xc[clidx[1]]-dx,\n",
      "                                                  0,\n",
      "                                                  dt,\n",
      "                                                  qn[clidx[0]+1],\n",
      "                                                  qn[clidx[0]+2],\n",
      "                                                  qnp[clidx[0]+1],\n",
      "                                                  qnp[clidx[0]+2],\n",
      "                                                  xc[clidx[1]]-(5*dx/4),\n",
      "                                                  dt_hat)\n",
      "                    #print ' qhat[iclstr,0]', qhat[iclstr,0]\n",
      "                    qhat[iclstr,1] = bilin_interp(xc[clidx[1]]-dx,\n",
      "                                                  xc[clidx[1]],\n",
      "                                                  0,\n",
      "                                                  dt,\n",
      "                                                  qn[clidx[0]+2],\n",
      "                                                  qn[clidx[1]+2],\n",
      "                                                  qnp[clidx[0]+2] ,\n",
      "                                                  qnp[clidx[1]+2],\n",
      "                                                  xc[clidx[1]]-(3*dx/4),\n",
      "                                                  dt_hat)\n",
      "                    #print 'qhat[iclstr,1]',qhat[iclstr,1]\n",
      "                    \n",
      "                    qhat[iclstr,mxf_clstr-2] = bilin_interp(xc[clidx[cellnum]],\n",
      "                                                            xc[clidx[cellnum]]+dx,\n",
      "                                                            0,\n",
      "                                                            dt,\n",
      "                                                            qn[clidx[cellnum]+2],\n",
      "                                                            qn[clidx[cellnum]+3],\n",
      "                                                            qnp[clidx[cellnum]+2],\n",
      "                                                            qnp[clidx[cellnum]+3],\n",
      "                                                            xc[clidx[cellnum]]+(3*dx/4),\n",
      "                                                            dt_hat)\n",
      "                    #print 'qhat[iclstr,mxf_clstr-2]',qhat[iclstr,mxf_clstr-2]\n",
      "                    \n",
      "                    qhat[iclstr,mxf_clstr-1] = bilin_interp(xc[clidx[cellnum]]+dx,\n",
      "                                                            xc[clidx[cellnum]]+2*dx,\n",
      "                                                            0,\n",
      "                                                            dt,\n",
      "                                                            qn[clidx[cellnum]+3],\n",
      "                                                            qn[clidx[cellnum]+4],\n",
      "                                                            qnp[clidx[cellnum]+3],\n",
      "                                                            qnp[clidx[cellnum]+4] ,\n",
      "                                                            xc[clidx[cellnum]]+(5*dx/4),\n",
      "                                                            dt_hat)\n",
      "                    #print 'qhat[iclstr,mxf_clstr-1]', qhat[iclstr,mxf_clstr-1]\n",
      "            \n",
      "                    # Solve over another time step dt_hat to get fine grid values for time t_n+1\n",
      "                    qhat[iclstr,0:mxf_clstr] = color_onestep(uhat,qhat[iclstr,0:mxf_clstr],dt_hat,dx_hat)[2:mxf_clstr+2]\n",
      "            \n",
      "            \n",
      "                # Average to get coarse grid values within fine grid region\n",
      "                for k in range(0,cellnum):\n",
      "                    a = 0\n",
      "                    for icell in range(0,R):\n",
      "                        a = a + qhat[iclstr, R*(k+1)+icell]\n",
      "                    qnp[clidx[k+1]] = a/R\n",
      "        \n",
      "        \n",
      "        # updated values for next time step iteration\n",
      "        #print 'qn'\n",
      "        #print qn\n",
      "        \n",
      "        #print 'qnp'\n",
      "        #print qnp\n",
      "        qn = qnp[2:mx_c+2]\n",
      "        \n",
      "        plt.figure(istep) \n",
      "        plot(xc,qn)\n",
      "        plt.show()\n",
      "    return qn"
     ],
     "language": "python",
     "metadata": {},
     "outputs": [],
     "prompt_number": 9
    },
    {
     "cell_type": "code",
     "collapsed": false,
     "input": [
      "#plot(xc,u_fnc(xc))\n",
      "qn = amr_color(u_fnc,q0,xc,tfinal,nsteps)\n",
      "plot(xc,qn)\n",
      "#ylim([0.5,3.5])"
     ],
     "language": "python",
     "metadata": {},
     "outputs": [
      {
       "output_type": "stream",
       "stream": "stdout",
       "text": [
        "0 number of flagged cells\n"
       ]
      },
      {
       "metadata": {},
       "output_type": "display_data",
       "png": "[encoded data removed]",
       "text": [
        "<matplotlib.figure.Figure at 0x105fca990>"
       ]
      },
      {
       "output_type": "stream",
       "stream": "stdout",
       "text": [
        "0 number of flagged cells\n"
       ]
      },
      {
       "metadata": {},
       "output_type": "display_data",
       "png": "[encoded data removed]",
       "text": [
        "<matplotlib.figure.Figure at 0x106130e50>"
       ]
      },
      {
       "output_type": "stream",
       "stream": "stdout",
       "text": [
        "0 number of flagged cells\n"
       ]
      },
      {
       "metadata": {},
       "output_type": "display_data",
       "png": "[encoded data removed]",
       "text": [
        "<matplotlib.figure.Figure at 0x10626df90>"
       ]
      },
      {
       "output_type": "stream",
       "stream": "stdout",
       "text": [
        "0 number of flagged cells\n"
       ]
      },
      {
       "metadata": {},
       "output_type": "display_data",
       "png": "[encoded data removed]",
       "text": [
        "<matplotlib.figure.Figure at 0x10611b390>"
       ]
      },
      {
       "output_type": "stream",
       "stream": "stdout",
       "text": [
        "0 number of flagged cells\n"
       ]
      },
      {
       "metadata": {},
       "output_type": "display_data",
       "png": "[encoded data removed]",
       "text": [
        "<matplotlib.figure.Figure at 0x106159b90>"
       ]
      },
      {
       "output_type": "stream",
       "stream": "stdout",
       "text": [
        "0 number of flagged cells\n"
       ]
      },
      {
       "metadata": {},
       "output_type": "display_data",
       "png": "[encoded data removed]",
       "text": [
        "<matplotlib.figure.Figure at 0x10679da10>"
       ]
      },
      {
       "output_type": "stream",
       "stream": "stdout",
       "text": [
        "0 number of flagged cells\n"
       ]
      },
      {
       "metadata": {},
       "output_type": "display_data",
       "png": "[encoded data removed]",
       "text": [
        "<matplotlib.figure.Figure at 0x1068a2e90>"
       ]
      },
      {
       "output_type": "stream",
       "stream": "stdout",
       "text": [
        "0 number of flagged cells\n"
       ]
      },
      {
       "metadata": {},
       "output_type": "display_data",
       "png": "[encoded data removed]",
       "text": [
        "<matplotlib.figure.Figure at 0x1069be210>"
       ]
      },
      {
       "output_type": "stream",
       "stream": "stdout",
       "text": [
        "0 number of flagged cells\n"
       ]
      },
      {
       "metadata": {},
       "output_type": "display_data",
       "png": "[encoded data removed]",
       "text": [
        "<matplotlib.figure.Figure at 0x106befd10>"
       ]
      },
      {
       "output_type": "stream",
       "stream": "stdout",
       "text": [
        "0 number of flagged cells\n"
       ]
      },
      {
       "metadata": {},
       "output_type": "display_data",
       "png": "[encoded data removed]",
       "text": [
        "<matplotlib.figure.Figure at 0x1069b4d10>"
       ]
      },
      {
       "output_type": "stream",
       "stream": "stdout",
       "text": [
        "0 number of flagged cells\n"
       ]
      },
      {
       "metadata": {},
       "output_type": "display_data",
       "png": "[encoded data removed]",
       "text": [
        "<matplotlib.figure.Figure at 0x1067763d0>"
       ]
      },
      {
       "output_type": "stream",
       "stream": "stdout",
       "text": [
        "0 number of flagged cells\n"
       ]
      },
      {
       "metadata": {},
       "output_type": "display_data",
       "png": "[encoded data removed]",
       "text": [
        "<matplotlib.figure.Figure at 0x106ba8490>"
       ]
      },
      {
       "output_type": "stream",
       "stream": "stdout",
       "text": [
        "0 number of flagged cells\n"
       ]
      },
      {
       "metadata": {},
       "output_type": "display_data",
       "png": "[encoded data removed]",
       "text": [
        "<matplotlib.figure.Figure at 0x10697b290>"
       ]
      },
      {
       "output_type": "stream",
       "stream": "stdout",
       "text": [
        "0 number of flagged cells\n"
       ]
      },
      {
       "metadata": {},
       "output_type": "display_data",
       "png": "[encoded data removed]",
       "text": [
        "<matplotlib.figure.Figure at 0x106102050>"
       ]
      },
      {
       "output_type": "stream",
       "stream": "stdout",
       "text": [
        "0 number of flagged cells\n"
       ]
      },
      {
       "metadata": {},
       "output_type": "display_data",
       "png": "[encoded data removed]",
       "text": [
        "<matplotlib.figure.Figure at 0x106881650>"
       ]
      },
      {
       "output_type": "stream",
       "stream": "stdout",
       "text": [
        "0 number of flagged cells\n"
       ]
      },
      {
       "metadata": {},
       "output_type": "display_data",
       "png": "[encoded data removed]",
       "text": [
        "<matplotlib.figure.Figure at 0x1067c2cd0>"
       ]
      },
      {
       "output_type": "stream",
       "stream": "stdout",
       "text": [
        "0 number of flagged cells\n"
       ]
      },
      {
       "metadata": {},
       "output_type": "display_data",
       "png": "[encoded data removed]",
       "text": [
        "<matplotlib.figure.Figure at 0x1060e7810>"
       ]
      },
      {
       "output_type": "stream",
       "stream": "stdout",
       "text": [
        "0 number of flagged cells\n"
       ]
      },
      {
       "metadata": {},
       "output_type": "display_data",
       "png": "[encoded data removed]",
       "text": [
        "<matplotlib.figure.Figure at 0x1062d4110>"
       ]
      },
      {
       "output_type": "stream",
       "stream": "stdout",
       "text": [
        "0 number of flagged cells\n"
       ]
      },
      {
       "metadata": {},
       "output_type": "display_data",
       "png": "[encoded data removed]",
       "text": [
        "<matplotlib.figure.Figure at 0x106289490>"
       ]
      },
      {
       "output_type": "stream",
       "stream": "stdout",
       "text": [
        "0 number of flagged cells\n"
       ]
      },
      {
       "metadata": {},
       "output_type": "display_data",
       "png": "[encoded data removed]",
       "text": [
        "<matplotlib.figure.Figure at 0x106613a90>"
       ]
      },
      {
       "metadata": {},
       "output_type": "pyout",
       "prompt_number": 10,
       "text": [
        "[<matplotlib.lines.Line2D at 0x106909f90>]"
       ]
      },
      {
       "metadata": {},
       "output_type": "display_data",
       "png": "[encoded data removed]",
       "text": [
        "<matplotlib.figure.Figure at 0x1061d9d50>"
       ]
      }
     ],
     "prompt_number": 10
    },
    {
     "cell_type": "code",
     "collapsed": false,
     "input": [
      "plot(xc,q0)\n",
      "ylim(-0.1,1.1)\n",
      "plt.figure(2)\n",
      "plot(xc,u_fnc(xc))"
     ],
     "language": "python",
     "metadata": {},
     "outputs": [
      {
       "metadata": {},
       "output_type": "pyout",
       "prompt_number": 12,
       "text": [
        "[<matplotlib.lines.Line2D at 0x1060b65d0>]"
       ]
      },
      {
       "metadata": {},
       "output_type": "display_data",
       "png": "[encoded data removed]",
       "text": [
        "<matplotlib.figure.Figure at 0x105fcae90>"
       ]
      },
      {
       "metadata": {},
       "output_type": "display_data",
       "png": "[encoded data removed]",
       "text": [
        "<matplotlib.figure.Figure at 0x10657d950>"
       ]
      }
     ],
     "prompt_number": 12
    },
    {
     "cell_type": "code",
     "collapsed": false,
     "input": [
      "A = [1]\n",
      "print len(A)"
     ],
     "language": "python",
     "metadata": {},
     "outputs": []
    },
    {
     "cell_type": "code",
     "collapsed": false,
     "input": [],
     "language": "python",
     "metadata": {},
     "outputs": []
    },
    {
     "cell_type": "code",
     "collapsed": false,
     "input": [],
     "language": "python",
     "metadata": {},
     "outputs": []
    }
   ],
   "metadata": {}
  }
 ]
}
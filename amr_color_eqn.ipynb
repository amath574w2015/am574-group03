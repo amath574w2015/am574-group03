{
 "metadata": {
  "name": "",
  "signature": "sha256:35b5892a8ab8bd9490c67e1988d0c8367ef94b533235c5d1d9382b17225d9520"
 },
 "nbformat": 3,
 "nbformat_minor": 0,
 "worksheets": [
  {
   "cells": [
    {
     "cell_type": "markdown",
     "metadata": {},
     "source": [
      "Adaptive mesh refinement tried out on a 1-d variable coefficient equation, also known as the color equation, $q_t + u(x)q_x = 0$"
     ]
    },
    {
     "cell_type": "code",
     "collapsed": false,
     "input": [
      "% pylab inline"
     ],
     "language": "python",
     "metadata": {},
     "outputs": [
      {
       "output_type": "stream",
       "stream": "stdout",
       "text": [
        "Populating the interactive namespace from numpy and matplotlib\n"
       ]
      }
     ],
     "prompt_number": 2
    },
    {
     "cell_type": "code",
     "collapsed": false,
     "input": [
      "# Step 1: Initialize coarse grid\n",
      "mx = 50\n",
      "dx = 1./mx\n",
      "x = linspace(dx/2, 1.-dx/2, mx)  # computational grid"
     ],
     "language": "python",
     "metadata": {},
     "outputs": [],
     "prompt_number": 3
    },
    {
     "cell_type": "code",
     "collapsed": false,
     "input": [
      "tfinal = 1\n",
      "nsteps = 100\n",
      "dt = float(tfinal)/nsteps"
     ],
     "language": "python",
     "metadata": {},
     "outputs": [],
     "prompt_number": 5
    },
    {
     "cell_type": "code",
     "collapsed": false,
     "input": [
      "# Step 2: Solve problem for ONE time step on coarse grid, for time step dt and 2*dt\n",
      "def color(u,q0,dt,dx):\n",
      "    \n",
      "    mx = len(q0)\n",
      "    qn = hstack([0, q0, 0])   # add a ghost cell on each end\n",
      "    \n",
      "    qn[0] = qn[mx]\n",
      "    qn[mx+1] = qn[1]\n",
      "    qnp = zeros(qn.shape)   # initialize array\n",
      "    \n",
      "    flux = zeros(qn.shape)\n",
      "    for i in range(1,mx+1):\n",
      "        flux[i] = 0.5*abs(u[i])*(1-(dt/dx)*abs(u[i]))*(qn[i]-qn[i-1])\n",
      "        \n",
      "    for i in range(1,mx+1):\n",
      "        if u[i] > 0:\n",
      "            qnp[i] = qn[i] - (dt/dx) * u[i]*(qn[i]-qn[i-1])\n",
      "        else:\n",
      "            qnp[i] = qn[i] - (dt/dx) * u[i]*(qn[i+1]-qn[i])\n",
      "            \n",
      "        qnp[i] = qnp[i]-(dt/dx)*(flux[i+1]-flux[i])\n",
      "        \n",
      "    qnew = qnp[1:(mx+1)]   # throw away ghost cells\n",
      "     \n",
      "    return qnew"
     ],
     "language": "python",
     "metadata": {},
     "outputs": [],
     "prompt_number": 7
    },
    {
     "cell_type": "code",
     "collapsed": false,
     "input": [
      "# Step 3: Estimate error and flag cells based on Richardson extrapolation\n",
      "qnew_D2 = color(u,qnew,dt,dx)  # twice\n",
      "qnew_2D = color(u,q0,2*dt,dx)  # double time step\n",
      "m = len(qnew_2D)\n",
      "error = zeros(qnew_2D.shape)\n",
      "s = 2 # order of accuracy\n",
      "for i in range m:\n",
      "    error[i] = (qnew_D2[i]-qnew_2D[i])/(2**(s+1)-2)\n",
      "\n",
      "\n"
     ],
     "language": "python",
     "metadata": {},
     "outputs": []
    },
    {
     "cell_type": "code",
     "collapsed": false,
     "input": [
      "def amr_color(ubar,q0,xc,tfinal,nsteps):\n",
      "    \n",
      "    dx = x[1]-x[0]             # length of cells in (given) coasrse grid\n",
      "    dt = float(tfinal)/nsteps  # length of time-step\n",
      "    cfl = abs(ubar*dt/dx)\n",
      "    \n",
      "    qn = hstack([0,0,q0,0,0]) # add two ghost cells on each side of grid\n",
      "    mx_c = len(x)             # number of grid cells in coarse grid\n",
      "    mxc4 = mx_c + 4           # number of grid cells including ghost cells\n",
      "    \n",
      "    flagged = range(floor(mx/2),floor(mx/2)+5) # indices of flagged cells, including cells in 'buffer zone'\n",
      "    # This is where we will call a function which uses solution valuues to flag cells for refinement\n",
      "    \n",
      "    factor = 2 #refinement factor of grid\n",
      "    # refine in space and time by the same factor, and take\n",
      "    # 'factor' time steps in fine grid for every time step in coarse grid\n",
      "    dx_hat = dx/factor\n",
      "    dt_hat = dt/factor\n",
      "    \n",
      "    mx_f = len(flagged) # number of grid cells in fine grid\n",
      "    \n",
      "    "
     ],
     "language": "python",
     "metadata": {},
     "outputs": [],
     "prompt_number": 17
    },
    {
     "cell_type": "code",
     "collapsed": false,
     "input": [],
     "language": "python",
     "metadata": {},
     "outputs": []
    },
    {
     "cell_type": "code",
     "collapsed": false,
     "input": [],
     "language": "python",
     "metadata": {},
     "outputs": []
    },
    {
     "cell_type": "code",
     "collapsed": false,
     "input": [],
     "language": "python",
     "metadata": {},
     "outputs": [],
     "prompt_number": 17
    },
    {
     "cell_type": "code",
     "collapsed": false,
     "input": [],
     "language": "python",
     "metadata": {},
     "outputs": []
    }
   ],
   "metadata": {}
  }
 ]
}